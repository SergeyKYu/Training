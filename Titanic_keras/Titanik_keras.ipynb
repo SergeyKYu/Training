{
 "cells": [
  {
   "cell_type": "code",
   "execution_count": 2,
   "id": "0b6b3178",
   "metadata": {},
   "outputs": [
    {
     "data": {
      "text/html": [
       "<style>svg{width:50% !importamt;height:50% !important;}<style>"
      ],
      "text/plain": [
       "<IPython.core.display.HTML object>"
      ]
     },
     "execution_count": 2,
     "metadata": {},
     "output_type": "execute_result"
    }
   ],
   "source": [
    "from tensorflow import keras\n",
    "from tensorflow.keras.layers import Dense, Input, Dropout, BatchNormalization\n",
    "from sklearn.model_selection import train_test_split\n",
    "from sklearn import tree\n",
    "import pandas as pd\n",
    "import matplotlib.pyplot as plt\n",
    "import seaborn as sns\n",
    "import numpy as np\n",
    "%matplotlib inline\n",
    "import os\n",
    "os.environ[\"PATH\"] += os.pathsep + 'C:/Program Files/Graphviz/bin'\n",
    "from IPython.display import SVG\n",
    "from graphviz import Source\n",
    "from IPython.display import display\n",
    "from IPython.display import HTML\n",
    "style = '<style>svg{width:50% !importamt;height:50% !important;}<style>'\n",
    "HTML(style)"
   ]
  },
  {
   "cell_type": "code",
   "execution_count": 3,
   "id": "7742a0f4",
   "metadata": {},
   "outputs": [],
   "source": [
    "pd.set_option('display.max_columns', None)\n",
    "titanic_train = pd.read_csv('train.csv')\n",
    "titanic_test = pd.read_csv('test.csv')"
   ]
  },
  {
   "cell_type": "code",
   "execution_count": 4,
   "id": "96a4aa82",
   "metadata": {},
   "outputs": [],
   "source": [
    "df = pd.concat([titanic_train, titanic_test], axis=0)"
   ]
  },
  {
   "cell_type": "code",
   "execution_count": 5,
   "id": "1164ef01",
   "metadata": {},
   "outputs": [
    {
     "data": {
      "text/html": [
       "<div>\n",
       "<style scoped>\n",
       "    .dataframe tbody tr th:only-of-type {\n",
       "        vertical-align: middle;\n",
       "    }\n",
       "\n",
       "    .dataframe tbody tr th {\n",
       "        vertical-align: top;\n",
       "    }\n",
       "\n",
       "    .dataframe thead th {\n",
       "        text-align: right;\n",
       "    }\n",
       "</style>\n",
       "<table border=\"1\" class=\"dataframe\">\n",
       "  <thead>\n",
       "    <tr style=\"text-align: right;\">\n",
       "      <th></th>\n",
       "      <th>Ticket</th>\n",
       "      <th>Fare</th>\n",
       "      <th>Ticket_Count</th>\n",
       "      <th>Price</th>\n",
       "    </tr>\n",
       "  </thead>\n",
       "  <tbody>\n",
       "    <tr>\n",
       "      <th>0</th>\n",
       "      <td>CA. 2343</td>\n",
       "      <td>69.5500</td>\n",
       "      <td>11</td>\n",
       "      <td>6.322727</td>\n",
       "    </tr>\n",
       "    <tr>\n",
       "      <th>1</th>\n",
       "      <td>1601</td>\n",
       "      <td>56.4958</td>\n",
       "      <td>8</td>\n",
       "      <td>7.061975</td>\n",
       "    </tr>\n",
       "    <tr>\n",
       "      <th>2</th>\n",
       "      <td>CA 2144</td>\n",
       "      <td>46.9000</td>\n",
       "      <td>8</td>\n",
       "      <td>5.862500</td>\n",
       "    </tr>\n",
       "    <tr>\n",
       "      <th>3</th>\n",
       "      <td>3101295</td>\n",
       "      <td>39.6875</td>\n",
       "      <td>7</td>\n",
       "      <td>5.669643</td>\n",
       "    </tr>\n",
       "    <tr>\n",
       "      <th>4</th>\n",
       "      <td>347077</td>\n",
       "      <td>31.3875</td>\n",
       "      <td>7</td>\n",
       "      <td>4.483929</td>\n",
       "    </tr>\n",
       "    <tr>\n",
       "      <th>...</th>\n",
       "      <td>...</td>\n",
       "      <td>...</td>\n",
       "      <td>...</td>\n",
       "      <td>...</td>\n",
       "    </tr>\n",
       "    <tr>\n",
       "      <th>924</th>\n",
       "      <td>342826</td>\n",
       "      <td>8.0500</td>\n",
       "      <td>1</td>\n",
       "      <td>8.050000</td>\n",
       "    </tr>\n",
       "    <tr>\n",
       "      <th>925</th>\n",
       "      <td>343095</td>\n",
       "      <td>8.0500</td>\n",
       "      <td>1</td>\n",
       "      <td>8.050000</td>\n",
       "    </tr>\n",
       "    <tr>\n",
       "      <th>926</th>\n",
       "      <td>343120</td>\n",
       "      <td>7.6500</td>\n",
       "      <td>1</td>\n",
       "      <td>7.650000</td>\n",
       "    </tr>\n",
       "    <tr>\n",
       "      <th>927</th>\n",
       "      <td>343271</td>\n",
       "      <td>7.0000</td>\n",
       "      <td>1</td>\n",
       "      <td>7.000000</td>\n",
       "    </tr>\n",
       "    <tr>\n",
       "      <th>928</th>\n",
       "      <td>349223</td>\n",
       "      <td>7.8958</td>\n",
       "      <td>1</td>\n",
       "      <td>7.895800</td>\n",
       "    </tr>\n",
       "  </tbody>\n",
       "</table>\n",
       "<p>929 rows × 4 columns</p>\n",
       "</div>"
      ],
      "text/plain": [
       "       Ticket     Fare  Ticket_Count     Price\n",
       "0    CA. 2343  69.5500            11  6.322727\n",
       "1        1601  56.4958             8  7.061975\n",
       "2     CA 2144  46.9000             8  5.862500\n",
       "3     3101295  39.6875             7  5.669643\n",
       "4      347077  31.3875             7  4.483929\n",
       "..        ...      ...           ...       ...\n",
       "924    342826   8.0500             1  8.050000\n",
       "925    343095   8.0500             1  8.050000\n",
       "926    343120   7.6500             1  7.650000\n",
       "927    343271   7.0000             1  7.000000\n",
       "928    349223   7.8958             1  7.895800\n",
       "\n",
       "[929 rows x 4 columns]"
      ]
     },
     "execution_count": 5,
     "metadata": {},
     "output_type": "execute_result"
    }
   ],
   "source": [
    "temp_df = df[['Ticket', 'Fare']].value_counts().reset_index()\n",
    "temp_df['Price'] = temp_df['Fare']/temp_df[0]\n",
    "temp_df.rename(columns={0:'Ticket_Count'},inplace=True)\n",
    "temp_df"
   ]
  },
  {
   "cell_type": "code",
   "execution_count": 6,
   "id": "e3f49c47",
   "metadata": {},
   "outputs": [],
   "source": [
    "df = pd.merge(df, temp_df, how='left', on=['Ticket', 'Fare'])"
   ]
  },
  {
   "cell_type": "code",
   "execution_count": 7,
   "id": "bb18772b",
   "metadata": {},
   "outputs": [],
   "source": [
    "def cabin_count(x):\n",
    "    if str(x) == 'nan':\n",
    "        return 0\n",
    "    else: return len(str(x).split(\" \"))\n",
    "df['Cabin_Count'] =df['Cabin'].apply(cabin_count)\n",
    "df['Price'].replace(to_replace=0,value=np.nan,inplace=True)\n",
    "ddf =df.groupby(['Sex','Ticket_Count','Cabin_Count'])['Price'].median().reset_index()"
   ]
  },
  {
   "cell_type": "code",
   "execution_count": 8,
   "id": "d76fc3e2",
   "metadata": {},
   "outputs": [],
   "source": [
    "df1 =df.copy()\n",
    "df1 = pd.merge(df1, ddf, how='left', on=['Sex','Ticket_Count','Cabin_Count'])"
   ]
  },
  {
   "cell_type": "code",
   "execution_count": 9,
   "id": "e546eaf6",
   "metadata": {},
   "outputs": [],
   "source": [
    "df['Price'] = df['Price'].fillna(df1['Price_y'])\n",
    "df['Price'].fillna(df['Price'].median(), inplace=True)\n"
   ]
  },
  {
   "cell_type": "code",
   "execution_count": 10,
   "id": "03450764",
   "metadata": {},
   "outputs": [],
   "source": [
    "def show_val(x):\n",
    "    sns.displot(data=df, x = x, hue ='Survived', multiple=\"dodge\", color='blue')#, n_boot=1, kind='bar'\n",
    "    plt.title(f'{x} vs Survival ')\n",
    "    plt.show()\n",
    "    print(df.groupby(x)['Survived'].mean().reset_index().sort_values(by=x))"
   ]
  },
  {
   "cell_type": "code",
   "execution_count": 11,
   "id": "db4da9d6",
   "metadata": {},
   "outputs": [],
   "source": [
    "df['Price_Category'] = pd.cut(df['Price'], bins=[0,7.90,14.45,31.28,140], labels=['Low','Mid', 'High_Mid','High'])"
   ]
  },
  {
   "cell_type": "code",
   "execution_count": 12,
   "id": "0d5c5300",
   "metadata": {},
   "outputs": [],
   "source": [
    "df['family'] = df['SibSp']+df['Parch']\n",
    "df['Alone'] = 1\n",
    "df['Alone'] = df['family'] == 0\n",
    "df['Alone'] = df['Alone'].astype('int')"
   ]
  },
  {
   "cell_type": "code",
   "execution_count": 13,
   "id": "931aba36",
   "metadata": {},
   "outputs": [],
   "source": [
    "age_gr = pd.pivot_table(df, index=['Sex', 'Pclass'], values=['Age'], aggfunc = np.median)\n",
    "df2 = df.copy()\n",
    "df2 = pd.merge(df, age_gr, how='left', on=['Sex', 'Pclass'])\n",
    "df['Age'] = df['Age'].fillna(df2['Age_y'])"
   ]
  },
  {
   "cell_type": "code",
   "execution_count": 14,
   "id": "4e94c67b",
   "metadata": {},
   "outputs": [],
   "source": [
    "df['Age_Range'] = pd.cut(df['Age'], bins=range(0, 90, 10), labels=['0,10','10,20', '20,30', '30,40','40,50', '50,60', '60,70', '70,80'])"
   ]
  },
  {
   "cell_type": "code",
   "execution_count": 15,
   "id": "7e030527",
   "metadata": {},
   "outputs": [],
   "source": [
    "df['Embarked'].fillna(df['Embarked'].mode()[0], inplace=True)\n",
    "df['Cabin'] = df['Cabin'].fillna('Na')"
   ]
  },
  {
   "cell_type": "code",
   "execution_count": 16,
   "id": "18d73850",
   "metadata": {},
   "outputs": [],
   "source": [
    "df_train = df[df['PassengerId']<892].set_index('PassengerId')\n",
    "df_test = df[df['PassengerId']>=892].set_index('PassengerId')"
   ]
  },
  {
   "cell_type": "code",
   "execution_count": 17,
   "id": "5f55d9d0",
   "metadata": {},
   "outputs": [],
   "source": [
    "X_train = df_train.drop(['Survived', 'Name', 'Ticket', 'Cabin', 'Ticket_Count', 'Fare'], axis=1)\n",
    "Y_train = df_train.Survived\n",
    "X_train = pd.get_dummies(X_train, drop_first=True)\n",
    "X_to_be_predict = df_test.drop(['Survived', 'Name', 'Ticket', 'Cabin', 'Ticket_Count', 'Fare'], axis=1)\n",
    "X_to_be_predict = pd.get_dummies(X_to_be_predict, drop_first=True)"
   ]
  },
  {
   "cell_type": "code",
   "execution_count": 18,
   "id": "51f34e3c",
   "metadata": {},
   "outputs": [],
   "source": [
    "X_train = X_train.drop(['Age', 'SibSp', 'Parch', 'Price', 'family'], axis=1)\n",
    "X_to_be_predict = X_to_be_predict.drop(['Age', 'SibSp', 'Parch', 'Price', 'family'], axis=1)\n"
   ]
  },
  {
   "cell_type": "code",
   "execution_count": 19,
   "id": "541d0e03",
   "metadata": {},
   "outputs": [
    {
     "name": "stdout",
     "output_type": "stream",
     "text": [
      "<class 'pandas.core.frame.DataFrame'>\n",
      "Int64Index: 418 entries, 892 to 1309\n",
      "Data columns (total 16 columns):\n",
      " #   Column                   Non-Null Count  Dtype\n",
      "---  ------                   --------------  -----\n",
      " 0   Pclass                   418 non-null    int64\n",
      " 1   Cabin_Count              418 non-null    int64\n",
      " 2   Alone                    418 non-null    int32\n",
      " 3   Sex_male                 418 non-null    uint8\n",
      " 4   Embarked_Q               418 non-null    uint8\n",
      " 5   Embarked_S               418 non-null    uint8\n",
      " 6   Price_Category_Mid       418 non-null    uint8\n",
      " 7   Price_Category_High_Mid  418 non-null    uint8\n",
      " 8   Price_Category_High      418 non-null    uint8\n",
      " 9   Age_Range_10,20          418 non-null    uint8\n",
      " 10  Age_Range_20,30          418 non-null    uint8\n",
      " 11  Age_Range_30,40          418 non-null    uint8\n",
      " 12  Age_Range_40,50          418 non-null    uint8\n",
      " 13  Age_Range_50,60          418 non-null    uint8\n",
      " 14  Age_Range_60,70          418 non-null    uint8\n",
      " 15  Age_Range_70,80          418 non-null    uint8\n",
      "dtypes: int32(1), int64(2), uint8(13)\n",
      "memory usage: 16.7 KB\n"
     ]
    }
   ],
   "source": [
    "X_to_be_predict.info()"
   ]
  },
  {
   "cell_type": "code",
   "execution_count": 20,
   "id": "6562a433",
   "metadata": {},
   "outputs": [],
   "source": [
    "X_train, X_test, Y_train, Y_test = train_test_split(X_train, Y_train, test_size=0.2)"
   ]
  },
  {
   "cell_type": "code",
   "execution_count": 21,
   "id": "3df55bb8",
   "metadata": {},
   "outputs": [],
   "source": [
    "X_train_np = X_train.to_numpy()\n",
    "X_test_np = X_test.to_numpy()\n",
    "X_pred_np = X_to_be_predict.to_numpy()"
   ]
  },
  {
   "cell_type": "code",
   "execution_count": 22,
   "id": "8e658567",
   "metadata": {},
   "outputs": [],
   "source": [
    "y_train_cat = keras.utils.to_categorical(Y_train, 2)\n",
    "y_test_cat = keras.utils.to_categorical(Y_test, 2)"
   ]
  },
  {
   "cell_type": "code",
   "execution_count": 104,
   "id": "0d218f31",
   "metadata": {},
   "outputs": [
    {
     "name": "stdout",
     "output_type": "stream",
     "text": [
      "Model: \"sequential_20\"\n",
      "_________________________________________________________________\n",
      " Layer (type)                Output Shape              Param #   \n",
      "=================================================================\n",
      " dense_43 (Dense)            (None, 120)               2040      \n",
      "                                                                 \n",
      " dense_44 (Dense)            (None, 60)                7260      \n",
      "                                                                 \n",
      " dense_45 (Dense)            (None, 2)                 122       \n",
      "                                                                 \n",
      "=================================================================\n",
      "Total params: 9,422\n",
      "Trainable params: 9,422\n",
      "Non-trainable params: 0\n",
      "_________________________________________________________________\n"
     ]
    }
   ],
   "source": [
    "model = keras.Sequential([\n",
    "    Input(shape=(16,)),\n",
    "    Dense(120, activation='relu'),\n",
    "    Dense(60, activation='relu'),\n",
    "    #Dropout(0.2),\n",
    "    #BatchNormalization(),\n",
    "    Dense(2, activation='softmax')\n",
    "])\n",
    "model.summary()"
   ]
  },
  {
   "cell_type": "code",
   "execution_count": 105,
   "id": "b02c6ddc",
   "metadata": {},
   "outputs": [],
   "source": [
    "model.compile(optimizer=keras.optimizers.Adam(0.0001),#'adam',#!\n",
    "              loss='categorical_crossentropy',\n",
    "              metrics=['accuracy'])"
   ]
  },
  {
   "cell_type": "code",
   "execution_count": 106,
   "id": "9acbec96",
   "metadata": {},
   "outputs": [
    {
     "name": "stdout",
     "output_type": "stream",
     "text": [
      "Epoch 1/10\n",
      "38/38 [==============================] - 0s 4ms/step - loss: 0.7286 - accuracy: 0.4112 - val_loss: 0.6670 - val_accuracy: 0.6944\n",
      "Epoch 2/10\n",
      "38/38 [==============================] - 0s 1ms/step - loss: 0.6624 - accuracy: 0.6331 - val_loss: 0.6150 - val_accuracy: 0.6944\n",
      "Epoch 3/10\n",
      "38/38 [==============================] - 0s 975us/step - loss: 0.6307 - accuracy: 0.6509 - val_loss: 0.5854 - val_accuracy: 0.7222\n",
      "Epoch 4/10\n",
      "38/38 [==============================] - 0s 1ms/step - loss: 0.6117 - accuracy: 0.6553 - val_loss: 0.5689 - val_accuracy: 0.7222\n",
      "Epoch 5/10\n",
      "38/38 [==============================] - 0s 1ms/step - loss: 0.5960 - accuracy: 0.6701 - val_loss: 0.5577 - val_accuracy: 0.7222\n",
      "Epoch 6/10\n",
      "38/38 [==============================] - 0s 1ms/step - loss: 0.5823 - accuracy: 0.6879 - val_loss: 0.5503 - val_accuracy: 0.7500\n",
      "Epoch 7/10\n",
      "38/38 [==============================] - 0s 932us/step - loss: 0.5694 - accuracy: 0.7071 - val_loss: 0.5405 - val_accuracy: 0.7778\n",
      "Epoch 8/10\n",
      "38/38 [==============================] - 0s 1ms/step - loss: 0.5569 - accuracy: 0.7160 - val_loss: 0.5360 - val_accuracy: 0.7778\n",
      "Epoch 9/10\n",
      "38/38 [==============================] - 0s 933us/step - loss: 0.5451 - accuracy: 0.7308 - val_loss: 0.5301 - val_accuracy: 0.8056\n",
      "Epoch 10/10\n",
      "38/38 [==============================] - 0s 1ms/step - loss: 0.5338 - accuracy: 0.7382 - val_loss: 0.5214 - val_accuracy: 0.8056\n",
      "6/6 [==============================] - 0s 3ms/step - loss: 0.5878 - accuracy: 0.6816\n"
     ]
    },
    {
     "data": {
      "image/png": "[encoded data removed]",
      "text/plain": [
       "<Figure size 640x480 with 1 Axes>"
      ]
     },
     "metadata": {},
     "output_type": "display_data"
    }
   ],
   "source": [
    "history = model.fit(X_train_np, y_train_cat, batch_size=18, epochs=10, validation_split=0.05)\n",
    "model.evaluate(X_test_np, y_test_cat)\n",
    "\n",
    "plt.plot(history.history['loss'])\n",
    "plt.plot(history.history['val_loss'])\n",
    "plt.grid(True)\n",
    "plt.show()"
   ]
  },
  {
   "cell_type": "code",
   "execution_count": 32,
   "id": "2b870da0",
   "metadata": {},
   "outputs": [
    {
     "data": {
      "text/plain": [
       "array([2, 1, 1, 1, 0, 0, 1, 0, 0, 0, 0, 1, 0, 0, 0, 0], dtype=int64)"
      ]
     },
     "execution_count": 32,
     "metadata": {},
     "output_type": "execute_result"
    }
   ],
   "source": [
    "X_test_np[1]"
   ]
  },
  {
   "cell_type": "code",
   "execution_count": 103,
   "id": "1e2bede5",
   "metadata": {},
   "outputs": [
    {
     "name": "stdout",
     "output_type": "stream",
     "text": [
      "             Survived\n",
      "PassengerId          \n",
      "892                 0\n",
      "893                 0\n",
      "894                 0\n",
      "895                 0\n",
      "896                 0\n"
     ]
    }
   ],
   "source": [
    "resx = model.predict(X_pred_np)\n",
    "res = np.argmax(resx, axis=1)\n",
    "y_pred = pd.DataFrame({'Survived': res})\n",
    "y_pred.index = X_to_be_predict.index\n",
    "print(y_pred.head())\n",
    "y_pred.to_csv('Submission.csv')"
   ]
  },
  {
   "cell_type": "code",
   "execution_count": null,
   "id": "2311586e",
   "metadata": {},
   "outputs": [],
   "source": []
  }
 ],
 "metadata": {
  "kernelspec": {
   "display_name": "Python 3 (ipykernel)",
   "language": "python",
   "name": "python3"
  },
  "language_info": {
   "codemirror_mode": {
    "name": "ipython",
    "version": 3
   },
   "file_extension": ".py",
   "mimetype": "text/x-python",
   "name": "python",
   "nbconvert_exporter": "python",
   "pygments_lexer": "ipython3",
   "version": "3.8.9"
  }
 },
 "nbformat": 4,
 "nbformat_minor": 5
}
